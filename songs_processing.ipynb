{
 "cells": [
  {
   "cell_type": "code",
   "execution_count": 9,
   "metadata": {},
   "outputs": [],
   "source": [
    "import os, re\n",
    "from pymystem3 import Mystem\n",
    "import string\n",
    "punct = string.punctuation"
   ]
  },
  {
   "cell_type": "code",
   "execution_count": 10,
   "metadata": {},
   "outputs": [],
   "source": [
    "m = Mystem()\n"
   ]
  },
  {
   "cell_type": "code",
   "execution_count": 11,
   "metadata": {},
   "outputs": [],
   "source": [
    "import re"
   ]
  },
  {
   "cell_type": "code",
   "execution_count": 12,
   "metadata": {},
   "outputs": [],
   "source": [
    "os.mkdir (\"Песни\")"
   ]
  },
  {
   "cell_type": "markdown",
   "metadata": {},
   "source": [
    "https://yandex.ru/dev/mystem/doc/grammemes-values.html  -- названия POS в mystem"
   ]
  },
  {
   "cell_type": "markdown",
   "metadata": {},
   "source": [
    "**Тексты песен, которые будут в боте**"
   ]
  },
  {
   "cell_type": "code",
   "execution_count": 13,
   "metadata": {},
   "outputs": [],
   "source": [
    "text_1 = '''\n",
    "Мне бы жизнь свою как кинопленку\n",
    "Прокрутить на десять лет назад\n",
    "Чтобы стала ты простой девчонкой\n",
    "Чистой-чистой как весенний сад\n",
    "\n",
    "Вижу тень наискосок\n",
    "Рыжий берег с полоской ила\n",
    "Я готов целовать песок\n",
    "По которому ты ходила\n",
    "\n",
    "Снова тень наискосок\n",
    "Рыжий берег с полоской ила\n",
    "Я готов целовать песок\n",
    "По которому ты ходила\n",
    "\n",
    "А когда весенними ночами\n",
    "Часто думая, что я влюблен\n",
    "Я твоими черными очами\n",
    "Был тогда как птица окрылен\n",
    "\n",
    "Вижу тень наискосок\n",
    "Рыжий берег с полоской ила\n",
    "Я готов целовать песок\n",
    "По которому ты ходила\n",
    "\n",
    "Снова тень наискосок\n",
    "Рыжий берег с полоской ила\n",
    "Я готов целовать песок\n",
    "По которому ты ходила\n",
    "\n",
    "Мне бы стать бы синей-синей птицей\n",
    "Петь не хуже чем все соловьи\n",
    "Не целуйся, слышишь, не целуйся\n",
    "Не целуйся, слышишь, без любви\n",
    "\n",
    "Вижу тень наискосок\n",
    "Рыжий берег с полоской ила\n",
    "Я готов целовать песок\n",
    "По которому ты ходила\n",
    "\n",
    "Снова тень наискосок\n",
    "Рыжий берег с полоской ила\n",
    "Я готов целовать песок\n",
    "По которому ты ходила\n",
    "\n",
    "Я готов целовать песок\n",
    "По которому ты ходила\n",
    "\n",
    "'''"
   ]
  },
  {
   "cell_type": "code",
   "execution_count": 14,
   "metadata": {},
   "outputs": [],
   "source": [
    "text_2 = '''\n",
    "Таких как она не водят в кино\n",
    "Мне должно быть понятно уже давно\n",
    "Но из такой, как она, ничего не слепить\n",
    "Проще было бы взять, зачеркнуть, и забыть\n",
    "\n",
    "Это не женщина, это беда\n",
    "Я с такой как она ни за что никогда\n",
    "Это не женщина, но я не ведусь\n",
    "Лучше просто пойду, покурю и напьюсь\n",
    "Это не женщина, это беда\n",
    "Я с такой как она ни за что никогда\n",
    "Это не женщина, но я не ведусь\n",
    "Лучше просто пойду, покурю и напьюсь\n",
    "\n",
    "Может дело во мне, и я просто слабак\n",
    "Если мне без нее никуда и никак\n",
    "Может просто не стоило так раздувать\n",
    "Я же знаю, что ей на меня наплевать\n",
    "\n",
    "Это не женщина, это беда\n",
    "Я с такой как она ни за что никогда\n",
    "Это не женщина, но я не ведусь\n",
    "Лучше просто пойду, покурю и напьюсь\n",
    "Это не женщина, это беда\n",
    "Я с такой как она ни за что никогда\n",
    "Это не женщина, но я не ведусь\n",
    "Лучше просто пойду, покурю и напьюсь\n",
    "\n",
    "Это не женщина, это беда\n",
    "Я с такой как она ни за что никогда\n",
    "Это не женщина, но я не ведусь\n",
    "Лучше просто пойду, покурю и напьюсь\n",
    "Это не женщина, это беда\n",
    "Я с такой как она ни за что никогда\n",
    "Это не женщина, но я не ведусь\n",
    "Лучше просто пойду, покурю и напьюсь\n",
    "\n",
    "Это не женщина, это беда\n",
    "Я с такой как она ни за что никогда\n",
    "Это не женщина, но я не ведусь\n",
    "Лучше просто пойду, покурю и напьюсь\n",
    "Это не женщина, это беда\n",
    "Я с такой как она ни за что никогда\n",
    "Это не женщина, но я не ведусь\n",
    "Лучше просто пойду, покурю и напьюсь\n",
    "\n",
    "'''"
   ]
  },
  {
   "cell_type": "code",
   "execution_count": 15,
   "metadata": {},
   "outputs": [],
   "source": [
    "text_3 = '''\n",
    "\n",
    "Ты снимаешь вечернее платье, стоя лицом к стене\n",
    "И я вижу свежие шрамы на гладкой, как бархат, спине\n",
    "Мне хочется плакать от боли или забыться во сне\n",
    "Где твои крылья, которые так нравились мне?\n",
    "\n",
    "Где твои крылья, которые нравились мне?\n",
    "Где твои крылья, которые нравились мне?\n",
    "\n",
    "Когда-то у нас было время, теперь у нас есть дела\n",
    "Доказывать, что сильный жрет слабых\n",
    "Доказывать, что сажа бела\n",
    "Мы все потеряли что-то на этой безумной войне\n",
    "Кстати, где твои крылья, которые нравились мне?\n",
    "\n",
    "Где твои крылья, которые нравились мне?\n",
    "Где твои крылья, которые нравились мне?\n",
    "\n",
    "Я не спрашиваю, сколько у тебя денег\n",
    "Не спрашиваю, сколько мужей\n",
    "Я вижу, ты боишься открытых окон и верхних этажей\n",
    "И если завтра начнется пожар и все здание будет в огне\n",
    "Мы погибнем без этих крыльев, которые нравились мне\n",
    "\n",
    "Где твои крылья, которые нравились мне?\n",
    "Где твои крылья, которые нравились мне?\n",
    "\n",
    "'''"
   ]
  },
  {
   "cell_type": "markdown",
   "metadata": {},
   "source": [
    "**Функции для обработки песен**"
   ]
  },
  {
   "cell_type": "markdown",
   "metadata": {},
   "source": [
    "Функция получает на вход строку с текстом песни и с названием песни. Создает папку с этим названием и txt файл с названием песни и её текстом."
   ]
  },
  {
   "cell_type": "code",
   "execution_count": 16,
   "metadata": {},
   "outputs": [],
   "source": [
    "def create_folder_txt (text, title):\n",
    "    os.chdir(\"Песни\")\n",
    "    os.mkdir(title) #создаем папку\n",
    "    os.chdir(title)\n",
    "    with open (f'{title}.txt', 'w') as file:\n",
    "        file.write (text)\n",
    "    os.chdir(os.pardir)\n",
    "    os.chdir(os.pardir)"
   ]
  },
  {
   "cell_type": "markdown",
   "metadata": {},
   "source": [
    "Функция для убирания слов определенной части речи, записи в txt файл песни и его аккуратное кладение в папочку этой песни"
   ]
  },
  {
   "cell_type": "code",
   "execution_count": 17,
   "metadata": {},
   "outputs": [],
   "source": [
    "def hide_POS_txt (text, title, POS):\n",
    "    text_with_hides = \"\"\n",
    "    ana = m.analyze(text) #прячем слова\n",
    "    word_position  = -1\n",
    "    words_to_hide = {}\n",
    "\n",
    "    for word in ana:\n",
    "        word_position  +=1\n",
    "        if 'analysis' in word:\n",
    "            gr = word['analysis'][0]['gr']\n",
    "            pos = gr.split('=')[0].split(',')[0]\n",
    "            if pos == POS:\n",
    "                words_to_hide[word ['text']] = []\n",
    "    \n",
    "\n",
    "    word_pos = -1\n",
    "    num_of_space = 0\n",
    "\n",
    "    split_text = text.split()\n",
    "    strip_split_text = []\n",
    "    for word in split_text:\n",
    "        strip_split_text.append(word.strip(punct))\n",
    "\n",
    "  \n",
    "    for word in strip_split_text:\n",
    "        word_pos += 1 \n",
    "        if word in words_to_hide:\n",
    "            num_of_space += 1\n",
    "            to_replace = re.compile (f'(?<=[^а-яёА-ЯЁ]){word}(?=[^а-яёА-ЯЁ])') \n",
    "            if num_of_space == 1:\n",
    "                text_with_hides = to_replace.sub ( '______' , text)\n",
    "                words_to_hide[word].append(num_of_space) \n",
    "            else:\n",
    "                text_with_hides = to_replace.sub ( '______' , text_with_hides, count = 1)\n",
    "                words_to_hide[word].append(num_of_space) \n",
    "\n",
    "\n",
    "    os.chdir(\"Песни\")\n",
    "    os.chdir(title)           #записываем в папку\n",
    "    with open (f'{title}_{POS}.txt', 'w') as file:\n",
    "        file.write (text_with_hides)\n",
    "    os.chdir(os.pardir)\n",
    "    os.chdir(os.pardir)"
   ]
  },
  {
   "cell_type": "markdown",
   "metadata": {},
   "source": [
    "**Обработка функциями текстов песен**"
   ]
  },
  {
   "cell_type": "code",
   "execution_count": 18,
   "metadata": {},
   "outputs": [],
   "source": [
    "create_folder_txt (text_1, \"Я готов целовать песок\")"
   ]
  },
  {
   "cell_type": "code",
   "execution_count": null,
   "metadata": {},
   "outputs": [],
   "source": [
    "create_folder_txt (text_2, \"Это не женщина\")"
   ]
  },
  {
   "cell_type": "code",
   "execution_count": null,
   "metadata": {},
   "outputs": [],
   "source": [
    "create_folder_txt (text_3, \"Крылья\")"
   ]
  },
  {
   "cell_type": "code",
   "execution_count": null,
   "metadata": {},
   "outputs": [],
   "source": [
    "hide_POS_txt(text_1, \"Я готов целовать песок\", \"V\")"
   ]
  },
  {
   "cell_type": "code",
   "execution_count": 13,
   "metadata": {},
   "outputs": [],
   "source": [
    "hide_POS_txt(text_1, \"Я готов целовать песок\", \"S\")"
   ]
  },
  {
   "cell_type": "code",
   "execution_count": null,
   "metadata": {},
   "outputs": [],
   "source": [
    "hide_POS_txt(text_2, \"Это не женщина\", \"V\")"
   ]
  },
  {
   "cell_type": "code",
   "execution_count": null,
   "metadata": {},
   "outputs": [],
   "source": [
    "hide_POS_txt(text_2, \"Это не женщина\", \"S\")"
   ]
  },
  {
   "cell_type": "code",
   "execution_count": null,
   "metadata": {},
   "outputs": [],
   "source": [
    "hide_POS_txt(text_2, \"Это не женщина\", \"PR\")"
   ]
  },
  {
   "cell_type": "code",
   "execution_count": 14,
   "metadata": {},
   "outputs": [],
   "source": [
    "hide_POS_txt(text_3, \"Крылья\", 'SPRO')"
   ]
  },
  {
   "cell_type": "code",
   "execution_count": 15,
   "metadata": {},
   "outputs": [],
   "source": [
    "hide_POS_txt(text_3, \"Крылья\", 'S')"
   ]
  },
  {
   "cell_type": "code",
   "execution_count": 16,
   "metadata": {},
   "outputs": [],
   "source": [
    "hide_POS_txt(text_3, \"Крылья\", 'A')"
   ]
  }
 ],
 "metadata": {
  "interpreter": {
   "hash": "4d05e4bc094ea0f6c5b719462d3378668b4bf767268406c699b7b31250883d37"
  },
  "kernelspec": {
   "display_name": "Python 3.8.10 ('venv': venv)",
   "language": "python",
   "name": "python3"
  },
  "language_info": {
   "codemirror_mode": {
    "name": "ipython",
    "version": 3
   },
   "file_extension": ".py",
   "mimetype": "text/x-python",
   "name": "python",
   "nbconvert_exporter": "python",
   "pygments_lexer": "ipython3",
   "version": "3.8.10"
  },
  "orig_nbformat": 4
 },
 "nbformat": 4,
 "nbformat_minor": 2
}
